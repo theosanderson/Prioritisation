{
  "nbformat": 4,
  "nbformat_minor": 0,
  "metadata": {
    "colab": {
      "name": "Cherry picking optimisation - static",
      "provenance": [],
      "collapsed_sections": [],
      "authorship_tag": "ABX9TyNirCwPaZpbgiln+UqhdDNj",
      "include_colab_link": true
    },
    "kernelspec": {
      "name": "python3",
      "display_name": "Python 3"
    }
  },
  "cells": [
    {
      "cell_type": "markdown",
      "metadata": {
        "id": "view-in-github",
        "colab_type": "text"
      },
      "source": [
        "<a href=\"https://colab.research.google.com/github/theosanderson/Prioritisation/blob/main/Cherry_picking_optimisation_static.ipynb\" target=\"_parent\"><img src=\"https://colab.research.google.com/assets/colab-badge.svg\" alt=\"Open In Colab\"/></a>"
      ]
    },
    {
      "cell_type": "code",
      "metadata": {
        "colab": {
          "base_uri": "https://localhost:8080/"
        },
        "id": "p1dkQrdyc0DJ",
        "outputId": "2cabe9a9-7fb8-418c-9adc-5d54e33a9e03"
      },
      "source": [
        "!pip install ortools"
      ],
      "execution_count": null,
      "outputs": [
        {
          "output_type": "stream",
          "text": [
            "Requirement already satisfied: ortools in /usr/local/lib/python3.6/dist-packages (8.1.8487)\n",
            "Requirement already satisfied: protobuf>=3.14.0 in /usr/local/lib/python3.6/dist-packages (from ortools) (3.14.0)\n",
            "Requirement already satisfied: absl-py>=0.11 in /usr/local/lib/python3.6/dist-packages (from ortools) (0.11.0)\n",
            "Requirement already satisfied: six>=1.9 in /usr/local/lib/python3.6/dist-packages (from protobuf>=3.14.0->ortools) (1.15.0)\n"
          ],
          "name": "stdout"
        }
      ]
    },
    {
      "cell_type": "code",
      "metadata": {
        "id": "NnPMcOlTc1yX"
      },
      "source": [
        "from __future__ import print_function\r\n",
        "from ortools.sat.python import cp_model\r\n",
        "from io import StringIO\r\n",
        "import pandas as pd\r\n",
        "from collections import defaultdict\r\n"
      ],
      "execution_count": null,
      "outputs": []
    },
    {
      "cell_type": "code",
      "metadata": {
        "id": "8wPC0tC6dCv2"
      },
      "source": [
        "past_6_days_io = StringIO(\r\n",
        "\"\"\"ltla,genomes\r\n",
        "London,25\r\n",
        "Birmingham,25\r\n",
        "Cardiff,25\r\n",
        "Kent,0\r\n",
        "\"\"\")\r\n",
        "past_6_days = pd.read_csv(past_6_days_io)\r\n",
        "\r\n",
        "\r\n",
        "case_numbers_io = StringIO(\r\n",
        "\"\"\"ltla,cases\r\n",
        "London,25\r\n",
        "Birmingham,5\r\n",
        "Cardiff,25\r\n",
        "Kent,25\r\n",
        "\"\"\")\r\n",
        "case_numbers = pd.read_csv(case_numbers_io)\r\n",
        "\r\n",
        "box_manifest_io = StringIO(\r\n",
        "\"\"\"box,plate,coord,ltla,priority\r\n",
        "boxC5,plate33B,A5,Cardiff,0\r\n",
        "boxC2,plate123A,A1,Cardiff,0\r\n",
        "box1,plate123A,A2,London,0\r\n",
        "box1,plate1413A,A3,London,0\r\n",
        "box1,plate15B,A4,Kent,0\r\n",
        "box2,plate26A,A1,London,0\r\n",
        "box2b,plate25B,A1,London,0\r\n",
        "box3,plate23C,A1,Kent,0\r\n",
        "box3,plate22D,A1,Birmingham,1\r\n",
        "\"\"\")\r\n",
        "box_manifest = pd.read_csv(box_manifest_io)"
      ],
      "execution_count": null,
      "outputs": []
    },
    {
      "cell_type": "code",
      "metadata": {
        "colab": {
          "base_uri": "https://localhost:8080/",
          "height": 328
        },
        "id": "vKiHz5_Q-hNk",
        "outputId": "2a5bf0f2-48c0-4f1a-c481-25696529b579"
      },
      "source": [
        "box_manifest"
      ],
      "execution_count": null,
      "outputs": [
        {
          "output_type": "execute_result",
          "data": {
            "text/html": [
              "<div>\n",
              "<style scoped>\n",
              "    .dataframe tbody tr th:only-of-type {\n",
              "        vertical-align: middle;\n",
              "    }\n",
              "\n",
              "    .dataframe tbody tr th {\n",
              "        vertical-align: top;\n",
              "    }\n",
              "\n",
              "    .dataframe thead th {\n",
              "        text-align: right;\n",
              "    }\n",
              "</style>\n",
              "<table border=\"1\" class=\"dataframe\">\n",
              "  <thead>\n",
              "    <tr style=\"text-align: right;\">\n",
              "      <th></th>\n",
              "      <th>box</th>\n",
              "      <th>plate</th>\n",
              "      <th>coord</th>\n",
              "      <th>ltla</th>\n",
              "      <th>priority</th>\n",
              "    </tr>\n",
              "  </thead>\n",
              "  <tbody>\n",
              "    <tr>\n",
              "      <th>0</th>\n",
              "      <td>boxC5</td>\n",
              "      <td>plate33B</td>\n",
              "      <td>A5</td>\n",
              "      <td>Cardiff</td>\n",
              "      <td>0</td>\n",
              "    </tr>\n",
              "    <tr>\n",
              "      <th>1</th>\n",
              "      <td>boxC2</td>\n",
              "      <td>plate123A</td>\n",
              "      <td>A1</td>\n",
              "      <td>Cardiff</td>\n",
              "      <td>0</td>\n",
              "    </tr>\n",
              "    <tr>\n",
              "      <th>2</th>\n",
              "      <td>box1</td>\n",
              "      <td>plate123A</td>\n",
              "      <td>A2</td>\n",
              "      <td>London</td>\n",
              "      <td>0</td>\n",
              "    </tr>\n",
              "    <tr>\n",
              "      <th>3</th>\n",
              "      <td>box1</td>\n",
              "      <td>plate1413A</td>\n",
              "      <td>A3</td>\n",
              "      <td>London</td>\n",
              "      <td>0</td>\n",
              "    </tr>\n",
              "    <tr>\n",
              "      <th>4</th>\n",
              "      <td>box1</td>\n",
              "      <td>plate15B</td>\n",
              "      <td>A4</td>\n",
              "      <td>Kent</td>\n",
              "      <td>0</td>\n",
              "    </tr>\n",
              "    <tr>\n",
              "      <th>5</th>\n",
              "      <td>box2</td>\n",
              "      <td>plate26A</td>\n",
              "      <td>A1</td>\n",
              "      <td>London</td>\n",
              "      <td>0</td>\n",
              "    </tr>\n",
              "    <tr>\n",
              "      <th>6</th>\n",
              "      <td>box2b</td>\n",
              "      <td>plate25B</td>\n",
              "      <td>A1</td>\n",
              "      <td>London</td>\n",
              "      <td>0</td>\n",
              "    </tr>\n",
              "    <tr>\n",
              "      <th>7</th>\n",
              "      <td>box3</td>\n",
              "      <td>plate23C</td>\n",
              "      <td>A1</td>\n",
              "      <td>Kent</td>\n",
              "      <td>0</td>\n",
              "    </tr>\n",
              "    <tr>\n",
              "      <th>8</th>\n",
              "      <td>box3</td>\n",
              "      <td>plate22D</td>\n",
              "      <td>A1</td>\n",
              "      <td>Birmingham</td>\n",
              "      <td>1</td>\n",
              "    </tr>\n",
              "  </tbody>\n",
              "</table>\n",
              "</div>"
            ],
            "text/plain": [
              "     box       plate coord        ltla  priority\n",
              "0  boxC5    plate33B    A5     Cardiff         0\n",
              "1  boxC2   plate123A    A1     Cardiff         0\n",
              "2   box1   plate123A    A2      London         0\n",
              "3   box1  plate1413A    A3      London         0\n",
              "4   box1    plate15B    A4        Kent         0\n",
              "5   box2    plate26A    A1      London         0\n",
              "6  box2b    plate25B    A1      London         0\n",
              "7   box3    plate23C    A1        Kent         0\n",
              "8   box3    plate22D    A1  Birmingham         1"
            ]
          },
          "metadata": {
            "tags": []
          },
          "execution_count": 996
        }
      ]
    },
    {
      "cell_type": "markdown",
      "metadata": {
        "id": "YuzJWPQ3jJmP"
      },
      "source": [
        "## Constants"
      ]
    },
    {
      "cell_type": "code",
      "metadata": {
        "id": "U_WRVvqmjLaK"
      },
      "source": [
        "seconds_per_cherrypick = 10\r\n",
        "seconds_per_box_load = 60*20\r\n",
        "\r\n",
        "total_time_available = 60*20*2 +45 # fake small value\r\n",
        "\r\n",
        "ltla_loss_weighting = 2\r\n",
        "\r\n",
        "individual_sample_weighting =1\r\n",
        "\r\n",
        "priority_sample_weighting = 10"
      ],
      "execution_count": null,
      "outputs": []
    },
    {
      "cell_type": "markdown",
      "metadata": {
        "id": "f99jTVOxjEpX"
      },
      "source": [
        "## Variable set up"
      ]
    },
    {
      "cell_type": "code",
      "metadata": {
        "id": "DxARI7ZKhPZm"
      },
      "source": [
        "model = cp_model.CpModel()\r\n",
        "\r\n",
        "sample_is_picked = {} # indexed by row index\r\n",
        "priority_sample_is_picked = {} # indexed by row index\r\n",
        "box_is_picked = {} # indexed by box name\r\n",
        "\r\n",
        "sample_is_picked_by_ltla = defaultdict(list)\r\n",
        "\r\n",
        "\r\n",
        "boxes = box_manifest.box.unique().tolist()\r\n",
        "for box_name in boxes:\r\n",
        "  box_is_picked[box_name] = model.NewBoolVar(f'box_{box_name}_is_picked')\r\n",
        "\r\n",
        "for i,row in box_manifest.iterrows():\r\n",
        "  sample_is_picked[i] = model.NewBoolVar(f'sample_{i}_is_picked')\r\n",
        "  model.Add(box_is_picked[row.box] >= sample_is_picked[i])\r\n",
        "  sample_is_picked_by_ltla[row.ltla].append(sample_is_picked[i])\r\n",
        "  if row.priority:\r\n",
        "    priority_sample_is_picked[i] = sample_is_picked[i]\r\n",
        "\r\n",
        "total_boxes_picked = sum(box_is_picked.values())\r\n",
        "total_samples_picked = sum(sample_is_picked.values())\r\n",
        "total_priority_samples_picked = sum(priority_sample_is_picked.values())\r\n",
        "\r\n",
        "\r\n",
        "total_time = total_boxes_picked* seconds_per_box_load + total_samples_picked*seconds_per_cherrypick"
      ],
      "execution_count": null,
      "outputs": []
    },
    {
      "cell_type": "markdown",
      "metadata": {
        "id": "AlgYM1idkT_v"
      },
      "source": [
        "### Geographical desired variable set up"
      ]
    },
    {
      "cell_type": "code",
      "metadata": {
        "id": "VtF9yZtijibV"
      },
      "source": [
        "total_by_ltla = {}\r\n",
        "for key, value in sample_is_picked_by_ltla.items():\r\n",
        "  total_by_ltla[key] = sum(value)\r\n",
        "\r\n",
        "case_numbers['proportion'] = case_numbers['cases'] / case_numbers['cases'].sum()\r\n",
        "case_number_proportions = dict(zip(case_numbers['ltla'], case_numbers['proportion']))\r\n",
        "\r\n",
        "desired_numbers_for_eod_by_ltla = {}\r\n",
        "projected_numbers_for_eod_by_ltla = {}\r\n",
        "\r\n",
        "genomes_in_last_6_days_by_ltla = dict(zip(past_6_days['ltla'], past_6_days['genomes']))\r\n",
        "total_in_past_6_days = past_6_days['genomes'].sum()\r\n",
        "\r\n",
        "for ltla in case_number_proportions.keys():\r\n",
        "  desired_numbers_for_eod_by_ltla[ltla] = int( (7/6) * total_in_past_6_days * case_number_proportions[ltla]) \r\n",
        "  # This assumes we expect to go at about the same rate as last 6 days - we could also manually specify the number we roughly expect to run today\r\n",
        "  # Unfortunately trying to do this on the fly with a division of the number we expect to do doesn't seem to play well with the solver.\r\n",
        "\r\n",
        "\r\n",
        "for ltla in case_number_proportions.keys():\r\n",
        "  projected_numbers_for_eod_by_ltla[ltla] = genomes_in_last_6_days_by_ltla[ltla] + total_by_ltla[ltla]"
      ],
      "execution_count": null,
      "outputs": []
    },
    {
      "cell_type": "markdown",
      "metadata": {
        "id": "U3VVAsiMoHhG"
      },
      "source": [
        "## Constraints"
      ]
    },
    {
      "cell_type": "code",
      "metadata": {
        "colab": {
          "base_uri": "https://localhost:8080/"
        },
        "id": "eLlkdgitlWge",
        "outputId": "c4729b6b-bb8b-4145-a8d4-6050c0e18976"
      },
      "source": [
        "model.Add(total_time<total_time_available)"
      ],
      "execution_count": null,
      "outputs": [
        {
          "output_type": "execute_result",
          "data": {
            "text/plain": [
              "<ortools.sat.python.cp_model.Constraint at 0x7fc074b7a8d0>"
            ]
          },
          "metadata": {
            "tags": []
          },
          "execution_count": 1000
        }
      ]
    },
    {
      "cell_type": "markdown",
      "metadata": {
        "id": "MovqwcDfof8K"
      },
      "source": [
        "## Losses"
      ]
    },
    {
      "cell_type": "code",
      "metadata": {
        "id": "FzNMj0Meg5c4"
      },
      "source": [
        "ltla_losses = {}\r\n",
        "for ltla in projected_numbers_for_eod_by_ltla.keys():\r\n",
        "  possible_loss =  desired_numbers_for_eod_by_ltla[ltla] - projected_numbers_for_eod_by_ltla[ltla]\r\n",
        "  ltla_loss_var = model.NewIntVar(0,100000000,f\"positive_loss_for_{ltla}\")\r\n",
        "  model.Add(ltla_loss_var>=possible_loss) #this is how we implement a 0-cut off\r\n",
        "\r\n",
        "  ltla_losses[ltla] = ltla_loss_var\r\n",
        "\r\n",
        "ltla_loss = sum(ltla_losses.values())\r\n",
        "\r\n",
        "loss = ltla_loss * ltla_loss_weighting - total_samples_picked*individual_sample_weighting -total_priority_samples_picked*priority_sample_weighting"
      ],
      "execution_count": null,
      "outputs": []
    },
    {
      "cell_type": "markdown",
      "metadata": {
        "id": "IkSlr4arH8WX"
      },
      "source": [
        "# Run solver"
      ]
    },
    {
      "cell_type": "code",
      "metadata": {
        "id": "1jPA2JsGije3"
      },
      "source": [
        "\r\n",
        "model.Minimize(loss)\r\n",
        "solver = cp_model.CpSolver()\r\n",
        "solver.parameters.linearization_level = 0\r\n",
        "status = solver.Solve(model)"
      ],
      "execution_count": null,
      "outputs": []
    },
    {
      "cell_type": "code",
      "metadata": {
        "colab": {
          "base_uri": "https://localhost:8080/"
        },
        "id": "HEh7-zS7EqWc",
        "outputId": "52151616-fdda-4433-87d0-72027ce55ed6"
      },
      "source": [
        "if status == cp_model.OPTIMAL:\r\n",
        "  print(f\"Optimal solution found, loss: {solver.Value(loss)}\")\r\n",
        "elif status== cp_model.FEASIBLE:\r\n",
        "  print(f\"Feasible solution found, with total loss {solver.Value(loss)}\")\r\n",
        "else:\r\n",
        "  print(status)"
      ],
      "execution_count": null,
      "outputs": [
        {
          "output_type": "stream",
          "text": [
            "Optimal solution found, loss: 42\n"
          ],
          "name": "stdout"
        }
      ]
    },
    {
      "cell_type": "code",
      "metadata": {
        "colab": {
          "base_uri": "https://localhost:8080/",
          "height": 328
        },
        "id": "5W3cxyTR2nnt",
        "outputId": "4669dfa4-834e-41bc-a229-f6632966c1c7"
      },
      "source": [
        "box_manifest['to_pick'] = [solver.Value(sample_is_picked[i]) for i in box_manifest.index]\r\n",
        "\r\n",
        "box_manifest"
      ],
      "execution_count": null,
      "outputs": [
        {
          "output_type": "execute_result",
          "data": {
            "text/html": [
              "<div>\n",
              "<style scoped>\n",
              "    .dataframe tbody tr th:only-of-type {\n",
              "        vertical-align: middle;\n",
              "    }\n",
              "\n",
              "    .dataframe tbody tr th {\n",
              "        vertical-align: top;\n",
              "    }\n",
              "\n",
              "    .dataframe thead th {\n",
              "        text-align: right;\n",
              "    }\n",
              "</style>\n",
              "<table border=\"1\" class=\"dataframe\">\n",
              "  <thead>\n",
              "    <tr style=\"text-align: right;\">\n",
              "      <th></th>\n",
              "      <th>box</th>\n",
              "      <th>plate</th>\n",
              "      <th>coord</th>\n",
              "      <th>ltla</th>\n",
              "      <th>priority</th>\n",
              "      <th>to_pick</th>\n",
              "    </tr>\n",
              "  </thead>\n",
              "  <tbody>\n",
              "    <tr>\n",
              "      <th>0</th>\n",
              "      <td>boxC5</td>\n",
              "      <td>plate33B</td>\n",
              "      <td>A5</td>\n",
              "      <td>Cardiff</td>\n",
              "      <td>0</td>\n",
              "      <td>0</td>\n",
              "    </tr>\n",
              "    <tr>\n",
              "      <th>1</th>\n",
              "      <td>boxC2</td>\n",
              "      <td>plate123A</td>\n",
              "      <td>A1</td>\n",
              "      <td>Cardiff</td>\n",
              "      <td>0</td>\n",
              "      <td>0</td>\n",
              "    </tr>\n",
              "    <tr>\n",
              "      <th>2</th>\n",
              "      <td>box1</td>\n",
              "      <td>plate123A</td>\n",
              "      <td>A2</td>\n",
              "      <td>London</td>\n",
              "      <td>0</td>\n",
              "      <td>1</td>\n",
              "    </tr>\n",
              "    <tr>\n",
              "      <th>3</th>\n",
              "      <td>box1</td>\n",
              "      <td>plate1413A</td>\n",
              "      <td>A3</td>\n",
              "      <td>London</td>\n",
              "      <td>0</td>\n",
              "      <td>0</td>\n",
              "    </tr>\n",
              "    <tr>\n",
              "      <th>4</th>\n",
              "      <td>box1</td>\n",
              "      <td>plate15B</td>\n",
              "      <td>A4</td>\n",
              "      <td>Kent</td>\n",
              "      <td>0</td>\n",
              "      <td>1</td>\n",
              "    </tr>\n",
              "    <tr>\n",
              "      <th>5</th>\n",
              "      <td>box2</td>\n",
              "      <td>plate26A</td>\n",
              "      <td>A1</td>\n",
              "      <td>London</td>\n",
              "      <td>0</td>\n",
              "      <td>0</td>\n",
              "    </tr>\n",
              "    <tr>\n",
              "      <th>6</th>\n",
              "      <td>box2b</td>\n",
              "      <td>plate25B</td>\n",
              "      <td>A1</td>\n",
              "      <td>London</td>\n",
              "      <td>0</td>\n",
              "      <td>0</td>\n",
              "    </tr>\n",
              "    <tr>\n",
              "      <th>7</th>\n",
              "      <td>box3</td>\n",
              "      <td>plate23C</td>\n",
              "      <td>A1</td>\n",
              "      <td>Kent</td>\n",
              "      <td>0</td>\n",
              "      <td>1</td>\n",
              "    </tr>\n",
              "    <tr>\n",
              "      <th>8</th>\n",
              "      <td>box3</td>\n",
              "      <td>plate22D</td>\n",
              "      <td>A1</td>\n",
              "      <td>Birmingham</td>\n",
              "      <td>1</td>\n",
              "      <td>1</td>\n",
              "    </tr>\n",
              "  </tbody>\n",
              "</table>\n",
              "</div>"
            ],
            "text/plain": [
              "     box       plate coord        ltla  priority  to_pick\n",
              "0  boxC5    plate33B    A5     Cardiff         0        0\n",
              "1  boxC2   plate123A    A1     Cardiff         0        0\n",
              "2   box1   plate123A    A2      London         0        1\n",
              "3   box1  plate1413A    A3      London         0        0\n",
              "4   box1    plate15B    A4        Kent         0        1\n",
              "5   box2    plate26A    A1      London         0        0\n",
              "6  box2b    plate25B    A1      London         0        0\n",
              "7   box3    plate23C    A1        Kent         0        1\n",
              "8   box3    plate22D    A1  Birmingham         1        1"
            ]
          },
          "metadata": {
            "tags": []
          },
          "execution_count": 1004
        }
      ]
    },
    {
      "cell_type": "markdown",
      "metadata": {
        "id": "Y6TBxmwqKsr8"
      },
      "source": [
        "## Debugging"
      ]
    },
    {
      "cell_type": "code",
      "metadata": {
        "colab": {
          "base_uri": "https://localhost:8080/"
        },
        "id": "JyoutfZrJeAb",
        "outputId": "1113607c-a037-4909-8990-5c350cd3fadb"
      },
      "source": [
        "def print_dict(the_dict):\r\n",
        "  print({i:solver.Value(x) for i,x in the_dict.items()})\r\n",
        "print_dict(desired_numbers_for_eod_by_ltla)"
      ],
      "execution_count": null,
      "outputs": [
        {
          "output_type": "stream",
          "text": [
            "{'London': 27, 'Birmingham': 5, 'Cardiff': 27, 'Kent': 27}\n"
          ],
          "name": "stdout"
        }
      ]
    },
    {
      "cell_type": "code",
      "metadata": {
        "colab": {
          "base_uri": "https://localhost:8080/"
        },
        "id": "d1F-Wm6PJsB0",
        "outputId": "33ade79c-515d-41f2-cb7b-a3f0b2377836"
      },
      "source": [
        "print_dict(projected_numbers_for_eod_by_ltla)"
      ],
      "execution_count": null,
      "outputs": [
        {
          "output_type": "stream",
          "text": [
            "{'London': 26, 'Birmingham': 26, 'Cardiff': 25, 'Kent': 2}\n"
          ],
          "name": "stdout"
        }
      ]
    },
    {
      "cell_type": "code",
      "metadata": {
        "colab": {
          "base_uri": "https://localhost:8080/"
        },
        "id": "P9jZpSzwJ4oP",
        "outputId": "efedf029-9f16-4916-bc60-cc2a71f9e302"
      },
      "source": [
        "print_dict(ltla_losses)"
      ],
      "execution_count": null,
      "outputs": [
        {
          "output_type": "stream",
          "text": [
            "{'London': 1, 'Birmingham': 0, 'Cardiff': 2, 'Kent': 25}\n"
          ],
          "name": "stdout"
        }
      ]
    }
  ]
}